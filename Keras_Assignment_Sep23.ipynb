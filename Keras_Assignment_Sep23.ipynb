{
  "nbformat": 4,
  "nbformat_minor": 0,
  "metadata": {
    "colab": {
      "provenance": [],
      "gpuType": "T4"
    },
    "kernelspec": {
      "name": "python3",
      "display_name": "Python 3"
    },
    "language_info": {
      "name": "python"
    },
    "accelerator": "GPU"
  },
  "cells": [
    {
      "cell_type": "markdown",
      "source": [
        "# Applied Data Science 2 - Keras Assignment - 2023A\n",
        "\n",
        "In this assignment you will be building a script to classify images of animals. The assignment is broken up into sections and you need to complete each section successively. The sections are:\n",
        "\n",
        "1. Data Processing\n",
        "2. Model Definition\n",
        "3. Model Training\n",
        "4. Model Evaluation\n",
        "\n",
        "In addition to this coding exercise, you will also need to write a 1-2 page report analysing and critically evaluating you models results."
      ],
      "metadata": {
        "id": "nQrpKRkEIBB5"
      }
    },
    {
      "cell_type": "code",
      "execution_count": 1,
      "metadata": {
        "id": "eBNRzib8voMm"
      },
      "outputs": [],
      "source": [
        "# Enter your module imports here, some modules are already provided\n",
        "\n",
        "from tensorflow.keras.layers import Input, Conv2D, MaxPooling2D, GlobalAveragePooling2D, Dense\n",
        "from tensorflow.keras.callbacks import ModelCheckpoint\n",
        "from tensorflow.keras.callbacks import LearningRateScheduler\n",
        "\n",
        "import numpy as np\n",
        "import matplotlib.pyplot as plt\n",
        "import tensorflow as tf\n",
        "from tensorflow import keras\n",
        "import os\n",
        "import pathlib\n",
        "\n",
        "from tensorflow.keras import layers, losses, optimizers\n",
        "\n",
        "from tensorflow.keras.models import Model"
      ]
    },
    {
      "cell_type": "code",
      "source": [
        "# CodeGrade Tag Init1\n",
        "from google.colab import drive\n",
        "drive.mount('/content/drive')"
      ],
      "metadata": {
        "id": "MGHk085OWCT_",
        "colab": {
          "base_uri": "https://localhost:8080/"
        },
        "outputId": "3b225d26-4a9b-4393-aa00-42f48a23d6f7"
      },
      "execution_count": 2,
      "outputs": [
        {
          "output_type": "stream",
          "name": "stdout",
          "text": [
            "Drive already mounted at /content/drive; to attempt to forcibly remount, call drive.mount(\"/content/drive\", force_remount=True).\n"
          ]
        }
      ]
    },
    {
      "cell_type": "markdown",
      "source": [
        "# Data Processing\n",
        "\n"
      ],
      "metadata": {
        "id": "PN-7QYYKKCOH"
      }
    },
    {
      "cell_type": "code",
      "source": [
        "# CodeGrade Tag DataProc\n",
        "\n",
        "label_dict = {'cat' : 0,\n",
        "              'dog' : 1,\n",
        "              'wild' : 2}\n",
        "\n",
        "# This function is provided to read in the image files from the folder on your\n",
        "# Google Drive\n",
        "def parse_image(filename):\n",
        "  parts = tf.strings.split(filename, os.sep)\n",
        "  label = parts[-2]\n",
        "  label = tf.strings.to_number(label)\n",
        "\n",
        "  image = tf.io.read_file(filename)\n",
        "  image = tf.io.decode_jpeg(image)\n",
        "  return image, label\n",
        "\n",
        "img_loc = \"/content/drive/MyDrive/Colab Notebooks/Animals/\"\n",
        "\n",
        "train_list_ds = tf.data.Dataset.list_files(img_loc + \"train/*/*\")\n",
        "valid_list_ds = tf.data.Dataset.list_files(img_loc + \"val/*/*\")\n"
      ],
      "metadata": {
        "id": "9yWqczq8KGI6"
      },
      "execution_count": 3,
      "outputs": []
    },
    {
      "cell_type": "markdown",
      "source": [
        "**Create a function called \"img_process\" converts the images to float32 datatype and resizes them to 64x64 pixels.**"
      ],
      "metadata": {
        "id": "q3hIMuVQM4AN"
      }
    },
    {
      "cell_type": "code",
      "source": [
        "# CodeGrade Tag Ex1a\n",
        "### Write a function called img_process, which takes in the image and label as\n",
        "### inputs, converts the data type of the image to tf.float32, resizes the\n",
        "### image to (64,64), and finally returns the image and labels.\n",
        "\n",
        "def img_process(image, label):\n",
        "  image = tf.image.convert_image_dtype(image, dtype = tf.float32)\n",
        "  image = tf.image.resize(image, (64,64))\n",
        "  return image, label\n"
      ],
      "metadata": {
        "id": "BxtGcsAWM3gs"
      },
      "execution_count": 4,
      "outputs": []
    },
    {
      "cell_type": "markdown",
      "source": [
        "**Using the tf.data API, load in the training and validation data. Be mindful of efficient data processing good practice to minimise the time it takes to load the data.**"
      ],
      "metadata": {
        "id": "G51UPu0fNmNf"
      }
    },
    {
      "cell_type": "code",
      "source": [
        "# CodeGrade Tag Ex1b\n",
        "### Use the parse_image and img_process functions to construct the training and\n",
        "### validation datasets. You should utilise good practice in optimising the\n",
        "### dataset loading. Use a batch size of 128. Use techniques like caching and\n",
        "### prefetching to efficiently load the data.\n",
        "\n",
        "# Training dataset\n",
        "train_ds = (\n",
        "    train_list_ds\n",
        "    .map(parse_image, num_parallel_calls=tf.data.AUTOTUNE)\n",
        "    .batch(128)  # Batch before processing\n",
        "    .map(img_process, num_parallel_calls=tf.data.AUTOTUNE)  # Process over batches\n",
        "    .cache()  # Cache the processed dataset\n",
        "    .shuffle(buffer_size=1000)  # Shuffle after caching\n",
        "    .prefetch(tf.data.AUTOTUNE)  # Prefetching for efficiency\n",
        ")\n",
        "\n",
        "# Validation dataset\n",
        "valid_ds = (\n",
        "    valid_list_ds\n",
        "    .map(parse_image, num_parallel_calls=tf.data.AUTOTUNE)\n",
        "    .batch(128)  # Batch before processing\n",
        "    .map(img_process, num_parallel_calls=tf.data.AUTOTUNE)  # Process over batches\n",
        "    .cache()  # Cache the processed dataset\n",
        "    .prefetch(tf.data.AUTOTUNE)  # Prefetching for efficiency\n",
        ")\n"
      ],
      "metadata": {
        "id": "VNUS8p98Ph5L"
      },
      "execution_count": 5,
      "outputs": []
    },
    {
      "cell_type": "markdown",
      "source": [
        "# Model Definition\n",
        "\n",
        "**Using the Keras Functional API, create a convolutional neural network with the architecture show in the model summary below.**\n",
        "\n",
        "**A few important points to consider:**\n",
        "\n",
        "* Call the convolutional layers and the first dense layer should have ReLU activation functions. The output layer should have a SoftMax activation function.\n",
        "* Pay attention to the output shapes and the number of partmeters for each layer, as these give indications as to the correct settings for the number of filters, kernel size, stride length and padding.\n",
        "* Use the layer names provided in the summary in your model."
      ],
      "metadata": {
        "id": "86Uo36n_KGYb"
      }
    },
    {
      "cell_type": "markdown",
      "source": [
        "\n",
        "```\n",
        "# Model Summary\n",
        "\n",
        "Model: \"model\"\n",
        "_________________________________________________________________\n",
        " Layer (type)                Output Shape              Param #   \n",
        "=================================================================\n",
        " Input (InputLayer)          [(None, 64, 64, 3)]       0         \n",
        "                                                                 \n",
        " Conv0 (Conv2D)              (None, 32, 32, 16)        1216      \n",
        "                                                                 \n",
        " Conv1 (Conv2D)              (None, 32, 32, 32)        4640      \n",
        "                                                                 \n",
        " Conv2 (Conv2D)              (None, 32, 32, 32)        9248      \n",
        "                                                                 \n",
        " Pool1 (MaxPooling2D)        (None, 16, 16, 32)        0         \n",
        "                                                                 \n",
        " Conv3 (Conv2D)              (None, 16, 16, 64)        18496     \n",
        "                                                                 \n",
        " Conv4 (Conv2D)              (None, 16, 16, 64)        36928     \n",
        "                                                                 \n",
        " Pool2 (MaxPooling2D)        (None, 8, 8, 64)          0         \n",
        "                                                                 \n",
        " Conv5 (Conv2D)              (None, 8, 8, 128)         73856     \n",
        "                                                                 \n",
        " Conv6 (Conv2D)              (None, 8, 8, 128)         147584    \n",
        "                                                                 \n",
        " GlobalPool (GlobalAverageP  (None, 128)               0         \n",
        " ooling2D)                                                       \n",
        "                                                                 \n",
        " FC1 (Dense)                 (None, 512)               66048     \n",
        "                                                                 \n",
        " Output (Dense)              (None, 10)                5130      \n",
        "                                                                 \n",
        "=================================================================\n",
        "Total params: 363146 (1.39 MB)\n",
        "Trainable params: 363146 (1.39 MB)\n",
        "Non-trainable params: 0 (0.00 Byte)\n",
        "_________________________________________________________________\n",
        "\n",
        "\n",
        "```\n",
        "\n"
      ],
      "metadata": {
        "id": "hBSBfH-QP6M0"
      }
    },
    {
      "cell_type": "code",
      "source": [
        "# CodeGrade Tag Ex2a\n",
        "### Define the model using the Keras Functional API. Use the summary above as a\n",
        "### guide for the model parameters. You will need to define the filters/units of\n",
        "### the layers correctly, as well as the kernel size, stride length and padding\n",
        "### of the convolutional layers.\n",
        "\n",
        "\n",
        "# Define the input layer\n",
        "input_layer = Input(shape=(64, 64, 3), name='Input')\n",
        "\n",
        "# Convolutional layers\n",
        "conv0 = Conv2D(16, (3, 3), activation='relu', padding='same', name='Conv0')(input_layer)\n",
        "conv1 = Conv2D(32, (3, 3), activation='relu', padding='same', name='Conv1')(conv0)\n",
        "conv2 = Conv2D(32, (3, 3), activation='relu', padding='same', name='Conv2')(conv1)\n",
        "pool1 = MaxPooling2D((2, 2), name='Pool1')(conv2)\n",
        "\n",
        "conv3 = Conv2D(64, (3, 3), activation='relu', padding='same', name='Conv3')(pool1)\n",
        "conv4 = Conv2D(64, (3, 3), activation='relu', padding='same', name='Conv4')(conv3)\n",
        "pool2 = MaxPooling2D((2, 2), name='Pool2')(conv4)\n",
        "\n",
        "conv5 = Conv2D(128, (3, 3), activation='relu', padding='same', name='Conv5')(pool2)\n",
        "conv6 = Conv2D(128, (3, 3), activation='relu', padding='same', name='Conv6')(conv5)\n",
        "\n",
        "# Global Average Pooling\n",
        "global_pool = GlobalAveragePooling2D(name='GlobalPool')(conv6)\n",
        "\n",
        "# Dense layers\n",
        "fc1 = Dense(512, activation='relu', name='FC1')(global_pool)\n",
        "\n",
        "# Output layer\n",
        "output_layer = Dense(3, activation='softmax', name='Output')(fc1)\n",
        "\n",
        "# Create the model\n",
        "model = Model(inputs=input_layer, outputs=output_layer)\n",
        "\n",
        "\n"
      ],
      "metadata": {
        "id": "im9qipCiKJMK"
      },
      "execution_count": 6,
      "outputs": []
    },
    {
      "cell_type": "code",
      "source": [
        "# CodeGrade Tag Ex2b\n",
        "### Print the model summary and confirm is has the same architecture as the one\n",
        "### provided.\n",
        "\n",
        "# Display the model summary\n",
        "model.summary()\n"
      ],
      "metadata": {
        "id": "4ogeFQCqnz06",
        "colab": {
          "base_uri": "https://localhost:8080/"
        },
        "outputId": "229ac3ca-c2a2-4dfd-c199-47dc9d2dd7d7"
      },
      "execution_count": 7,
      "outputs": [
        {
          "output_type": "stream",
          "name": "stdout",
          "text": [
            "Model: \"model\"\n",
            "_________________________________________________________________\n",
            " Layer (type)                Output Shape              Param #   \n",
            "=================================================================\n",
            " Input (InputLayer)          [(None, 64, 64, 3)]       0         \n",
            "                                                                 \n",
            " Conv0 (Conv2D)              (None, 64, 64, 16)        448       \n",
            "                                                                 \n",
            " Conv1 (Conv2D)              (None, 64, 64, 32)        4640      \n",
            "                                                                 \n",
            " Conv2 (Conv2D)              (None, 64, 64, 32)        9248      \n",
            "                                                                 \n",
            " Pool1 (MaxPooling2D)        (None, 32, 32, 32)        0         \n",
            "                                                                 \n",
            " Conv3 (Conv2D)              (None, 32, 32, 64)        18496     \n",
            "                                                                 \n",
            " Conv4 (Conv2D)              (None, 32, 32, 64)        36928     \n",
            "                                                                 \n",
            " Pool2 (MaxPooling2D)        (None, 16, 16, 64)        0         \n",
            "                                                                 \n",
            " Conv5 (Conv2D)              (None, 16, 16, 128)       73856     \n",
            "                                                                 \n",
            " Conv6 (Conv2D)              (None, 16, 16, 128)       147584    \n",
            "                                                                 \n",
            " GlobalPool (GlobalAverageP  (None, 128)               0         \n",
            " ooling2D)                                                       \n",
            "                                                                 \n",
            " FC1 (Dense)                 (None, 512)               66048     \n",
            "                                                                 \n",
            " Output (Dense)              (None, 3)                 1539      \n",
            "                                                                 \n",
            "=================================================================\n",
            "Total params: 358787 (1.37 MB)\n",
            "Trainable params: 358787 (1.37 MB)\n",
            "Non-trainable params: 0 (0.00 Byte)\n",
            "_________________________________________________________________\n"
          ]
        }
      ]
    },
    {
      "cell_type": "markdown",
      "source": [
        "**Compile the model using the Adam Optimizer with a learning rate of ```5e-5```, ```sparse categorical crossentropy``` loss function, and ```accuracy``` metric.**"
      ],
      "metadata": {
        "id": "7Q4qQnsuP-CM"
      }
    },
    {
      "cell_type": "code",
      "source": [
        "# CodeGrade Tag Ex2c\n",
        "\n",
        "model.compile(optimizer=tf.keras.optimizers.Adam(learning_rate=5e-5),\n",
        "              loss='sparse_categorical_crossentropy',\n",
        "              metrics=['accuracy'])\n"
      ],
      "metadata": {
        "id": "qndXNKsyQl2G"
      },
      "execution_count": 8,
      "outputs": []
    },
    {
      "cell_type": "markdown",
      "source": [
        "# Model Training\n",
        "\n",
        "**Create a Model Checkpoint Callback that saves the weights of the best performing epoch, based on the validation accuracy.**"
      ],
      "metadata": {
        "id": "4G9gILWpKJXP"
      }
    },
    {
      "cell_type": "code",
      "source": [
        "# CodeGrade Tag Ex3a\n",
        "### Create a ModelCheckpoint callback to store the bext weights from the model,\n",
        "### based on the validation accuracy. Call this callback \"checkpoint_callback\"\n",
        "\n",
        "checkpoint_filepath = '/content/checkpoint'\n",
        "\n",
        "checkpoint_callback = ModelCheckpoint(\n",
        "    filepath=checkpoint_filepath,\n",
        "    save_weights_only=True,\n",
        "    monitor='val_accuracy',\n",
        "    mode='max',\n",
        "    save_best_only=True,\n",
        "    verbose=1\n",
        ")\n",
        "\n"
      ],
      "metadata": {
        "id": "ulXjHaiZKLLZ"
      },
      "execution_count": 9,
      "outputs": []
    },
    {
      "cell_type": "markdown",
      "source": [
        "**Create a Learning Rate Scheduler Callback that utilises the provided function to decrease the learning rate during training.**"
      ],
      "metadata": {
        "id": "9iUsL966RQMJ"
      }
    },
    {
      "cell_type": "code",
      "source": [
        "# CodeGrade Tag Ex3b\n",
        "### Using the function provided, create a LearningRateScheduler callback, call\n",
        "### it \"lr_callback\"\n",
        "\n",
        "def scheduler(epoch, lr):\n",
        "    if epoch < 10:\n",
        "        return lr\n",
        "    else:\n",
        "        return lr * tf.math.exp(-0.01)\n",
        "\n",
        "# Create the LearningRateScheduler callback\n",
        "lr_callback = LearningRateScheduler(scheduler)\n",
        "\n"
      ],
      "metadata": {
        "id": "5jhC3C7qRX1B"
      },
      "execution_count": 10,
      "outputs": []
    },
    {
      "cell_type": "markdown",
      "source": [
        "**Train the model for 100 epochs, using the callbacks you made previously. Store the losses and metrics to use later.**"
      ],
      "metadata": {
        "id": "zQbqwZNjRYIC"
      }
    },
    {
      "cell_type": "code",
      "source": [
        "# CodeGrade Tag Ex3c\n",
        "### Train the model for 100 epochs, using the callbacks you have created. Store\n",
        "### the losses and metrics in a history object.\n",
        "\n",
        "# Train the model with callbacks\n",
        "history = model.fit(\n",
        "    train_ds,\n",
        "    epochs=100,\n",
        "    validation_data=valid_ds,\n",
        "    callbacks=[checkpoint_callback, lr_callback]\n",
        ")\n",
        "\n"
      ],
      "metadata": {
        "id": "05qEIpORRfr8",
        "colab": {
          "base_uri": "https://localhost:8080/"
        },
        "outputId": "58dd7cc5-5a55-4fd0-8ea4-94fa1730d748"
      },
      "execution_count": 11,
      "outputs": [
        {
          "output_type": "stream",
          "name": "stdout",
          "text": [
            "Epoch 1/100\n",
            "115/115 [==============================] - ETA: 0s - loss: 1.0858 - accuracy: 0.3743\n",
            "Epoch 1: val_accuracy improved from -inf to 0.43267, saving model to /content/checkpoint\n",
            "115/115 [==============================] - 514s 964ms/step - loss: 1.0858 - accuracy: 0.3743 - val_loss: 1.0415 - val_accuracy: 0.4327 - lr: 5.0000e-05\n",
            "Epoch 2/100\n",
            "115/115 [==============================] - ETA: 0s - loss: 0.9418 - accuracy: 0.5194\n",
            "Epoch 2: val_accuracy improved from 0.43267 to 0.57867, saving model to /content/checkpoint\n",
            "115/115 [==============================] - 5s 43ms/step - loss: 0.9418 - accuracy: 0.5194 - val_loss: 0.8724 - val_accuracy: 0.5787 - lr: 5.0000e-05\n",
            "Epoch 3/100\n",
            "115/115 [==============================] - ETA: 0s - loss: 0.8522 - accuracy: 0.5710\n",
            "Epoch 3: val_accuracy improved from 0.57867 to 0.59933, saving model to /content/checkpoint\n",
            "115/115 [==============================] - 5s 42ms/step - loss: 0.8522 - accuracy: 0.5710 - val_loss: 0.8488 - val_accuracy: 0.5993 - lr: 5.0000e-05\n",
            "Epoch 4/100\n",
            "115/115 [==============================] - ETA: 0s - loss: 0.8374 - accuracy: 0.5780\n",
            "Epoch 4: val_accuracy did not improve from 0.59933\n",
            "115/115 [==============================] - 5s 44ms/step - loss: 0.8374 - accuracy: 0.5780 - val_loss: 0.8718 - val_accuracy: 0.5227 - lr: 5.0000e-05\n",
            "Epoch 5/100\n",
            "114/115 [============================>.] - ETA: 0s - loss: 0.8186 - accuracy: 0.5913\n",
            "Epoch 5: val_accuracy improved from 0.59933 to 0.62000, saving model to /content/checkpoint\n",
            "115/115 [==============================] - 5s 43ms/step - loss: 0.8184 - accuracy: 0.5913 - val_loss: 0.8146 - val_accuracy: 0.6200 - lr: 5.0000e-05\n",
            "Epoch 6/100\n",
            "114/115 [============================>.] - ETA: 0s - loss: 0.8019 - accuracy: 0.6034\n",
            "Epoch 6: val_accuracy improved from 0.62000 to 0.62400, saving model to /content/checkpoint\n",
            "115/115 [==============================] - 5s 47ms/step - loss: 0.8007 - accuracy: 0.6045 - val_loss: 0.8060 - val_accuracy: 0.6240 - lr: 5.0000e-05\n",
            "Epoch 7/100\n",
            "115/115 [==============================] - ETA: 0s - loss: 0.7841 - accuracy: 0.6166\n",
            "Epoch 7: val_accuracy did not improve from 0.62400\n",
            "115/115 [==============================] - 5s 44ms/step - loss: 0.7841 - accuracy: 0.6166 - val_loss: 0.7781 - val_accuracy: 0.6193 - lr: 5.0000e-05\n",
            "Epoch 8/100\n",
            "115/115 [==============================] - ETA: 0s - loss: 0.7741 - accuracy: 0.6283\n",
            "Epoch 8: val_accuracy improved from 0.62400 to 0.64267, saving model to /content/checkpoint\n",
            "115/115 [==============================] - 6s 50ms/step - loss: 0.7741 - accuracy: 0.6283 - val_loss: 0.7580 - val_accuracy: 0.6427 - lr: 5.0000e-05\n",
            "Epoch 9/100\n",
            "115/115 [==============================] - ETA: 0s - loss: 0.7646 - accuracy: 0.6345\n",
            "Epoch 9: val_accuracy improved from 0.64267 to 0.64733, saving model to /content/checkpoint\n",
            "115/115 [==============================] - 7s 58ms/step - loss: 0.7646 - accuracy: 0.6345 - val_loss: 0.7470 - val_accuracy: 0.6473 - lr: 5.0000e-05\n",
            "Epoch 10/100\n",
            "115/115 [==============================] - ETA: 0s - loss: 0.7445 - accuracy: 0.6517\n",
            "Epoch 10: val_accuracy improved from 0.64733 to 0.66733, saving model to /content/checkpoint\n",
            "115/115 [==============================] - 5s 46ms/step - loss: 0.7445 - accuracy: 0.6517 - val_loss: 0.7371 - val_accuracy: 0.6673 - lr: 5.0000e-05\n",
            "Epoch 11/100\n",
            "114/115 [============================>.] - ETA: 0s - loss: 0.7244 - accuracy: 0.6725\n",
            "Epoch 11: val_accuracy improved from 0.66733 to 0.68800, saving model to /content/checkpoint\n",
            "115/115 [==============================] - 5s 46ms/step - loss: 0.7246 - accuracy: 0.6722 - val_loss: 0.7058 - val_accuracy: 0.6880 - lr: 4.9502e-05\n",
            "Epoch 12/100\n",
            "115/115 [==============================] - ETA: 0s - loss: 0.7005 - accuracy: 0.6844\n",
            "Epoch 12: val_accuracy did not improve from 0.68800\n",
            "115/115 [==============================] - 5s 43ms/step - loss: 0.7005 - accuracy: 0.6844 - val_loss: 0.6977 - val_accuracy: 0.6820 - lr: 4.9010e-05\n",
            "Epoch 13/100\n",
            "115/115 [==============================] - ETA: 0s - loss: 0.6895 - accuracy: 0.6928\n",
            "Epoch 13: val_accuracy improved from 0.68800 to 0.70800, saving model to /content/checkpoint\n",
            "115/115 [==============================] - 5s 45ms/step - loss: 0.6895 - accuracy: 0.6928 - val_loss: 0.6690 - val_accuracy: 0.7080 - lr: 4.8522e-05\n",
            "Epoch 14/100\n",
            "115/115 [==============================] - ETA: 0s - loss: 0.6607 - accuracy: 0.7107\n",
            "Epoch 14: val_accuracy improved from 0.70800 to 0.71333, saving model to /content/checkpoint\n",
            "115/115 [==============================] - 5s 44ms/step - loss: 0.6607 - accuracy: 0.7107 - val_loss: 0.6619 - val_accuracy: 0.7133 - lr: 4.8039e-05\n",
            "Epoch 15/100\n",
            "115/115 [==============================] - ETA: 0s - loss: 0.6578 - accuracy: 0.7082\n",
            "Epoch 15: val_accuracy improved from 0.71333 to 0.72467, saving model to /content/checkpoint\n",
            "115/115 [==============================] - 5s 44ms/step - loss: 0.6578 - accuracy: 0.7082 - val_loss: 0.6462 - val_accuracy: 0.7247 - lr: 4.7561e-05\n",
            "Epoch 16/100\n",
            "115/115 [==============================] - ETA: 0s - loss: 0.6320 - accuracy: 0.7199\n",
            "Epoch 16: val_accuracy did not improve from 0.72467\n",
            "115/115 [==============================] - 5s 44ms/step - loss: 0.6320 - accuracy: 0.7199 - val_loss: 0.6605 - val_accuracy: 0.7127 - lr: 4.7088e-05\n",
            "Epoch 17/100\n",
            "115/115 [==============================] - ETA: 0s - loss: 0.6229 - accuracy: 0.7284\n",
            "Epoch 17: val_accuracy improved from 0.72467 to 0.73533, saving model to /content/checkpoint\n",
            "115/115 [==============================] - 5s 44ms/step - loss: 0.6229 - accuracy: 0.7284 - val_loss: 0.6047 - val_accuracy: 0.7353 - lr: 4.6620e-05\n",
            "Epoch 18/100\n",
            "115/115 [==============================] - ETA: 0s - loss: 0.6047 - accuracy: 0.7360\n",
            "Epoch 18: val_accuracy did not improve from 0.73533\n",
            "115/115 [==============================] - 5s 43ms/step - loss: 0.6047 - accuracy: 0.7360 - val_loss: 0.6934 - val_accuracy: 0.7067 - lr: 4.6156e-05\n",
            "Epoch 19/100\n",
            "114/115 [============================>.] - ETA: 0s - loss: 0.6069 - accuracy: 0.7387\n",
            "Epoch 19: val_accuracy improved from 0.73533 to 0.75867, saving model to /content/checkpoint\n",
            "115/115 [==============================] - 5s 45ms/step - loss: 0.6064 - accuracy: 0.7390 - val_loss: 0.5855 - val_accuracy: 0.7587 - lr: 4.5697e-05\n",
            "Epoch 20/100\n",
            "114/115 [============================>.] - ETA: 0s - loss: 0.6001 - accuracy: 0.7403\n",
            "Epoch 20: val_accuracy did not improve from 0.75867\n",
            "115/115 [==============================] - 5s 44ms/step - loss: 0.6002 - accuracy: 0.7399 - val_loss: 0.6076 - val_accuracy: 0.7327 - lr: 4.5242e-05\n",
            "Epoch 21/100\n",
            "115/115 [==============================] - ETA: 0s - loss: 0.5858 - accuracy: 0.7483\n",
            "Epoch 21: val_accuracy did not improve from 0.75867\n",
            "115/115 [==============================] - 5s 45ms/step - loss: 0.5858 - accuracy: 0.7483 - val_loss: 0.5700 - val_accuracy: 0.7587 - lr: 4.4792e-05\n",
            "Epoch 22/100\n",
            "114/115 [============================>.] - ETA: 0s - loss: 0.5730 - accuracy: 0.7546\n",
            "Epoch 22: val_accuracy improved from 0.75867 to 0.76467, saving model to /content/checkpoint\n",
            "115/115 [==============================] - 5s 46ms/step - loss: 0.5734 - accuracy: 0.7548 - val_loss: 0.5649 - val_accuracy: 0.7647 - lr: 4.4346e-05\n",
            "Epoch 23/100\n",
            "115/115 [==============================] - ETA: 0s - loss: 0.5666 - accuracy: 0.7586\n",
            "Epoch 23: val_accuracy did not improve from 0.76467\n",
            "115/115 [==============================] - 5s 44ms/step - loss: 0.5666 - accuracy: 0.7586 - val_loss: 0.5621 - val_accuracy: 0.7600 - lr: 4.3905e-05\n",
            "Epoch 24/100\n",
            "115/115 [==============================] - ETA: 0s - loss: 0.5705 - accuracy: 0.7570\n",
            "Epoch 24: val_accuracy improved from 0.76467 to 0.77600, saving model to /content/checkpoint\n",
            "115/115 [==============================] - 5s 45ms/step - loss: 0.5705 - accuracy: 0.7570 - val_loss: 0.5451 - val_accuracy: 0.7760 - lr: 4.3468e-05\n",
            "Epoch 25/100\n",
            "114/115 [============================>.] - ETA: 0s - loss: 0.5520 - accuracy: 0.7685\n",
            "Epoch 25: val_accuracy improved from 0.77600 to 0.77733, saving model to /content/checkpoint\n",
            "115/115 [==============================] - 5s 45ms/step - loss: 0.5522 - accuracy: 0.7682 - val_loss: 0.5450 - val_accuracy: 0.7773 - lr: 4.3035e-05\n",
            "Epoch 26/100\n",
            "114/115 [============================>.] - ETA: 0s - loss: 0.5497 - accuracy: 0.7685\n",
            "Epoch 26: val_accuracy improved from 0.77733 to 0.77933, saving model to /content/checkpoint\n",
            "115/115 [==============================] - 5s 46ms/step - loss: 0.5494 - accuracy: 0.7685 - val_loss: 0.5427 - val_accuracy: 0.7793 - lr: 4.2607e-05\n",
            "Epoch 27/100\n",
            "115/115 [==============================] - ETA: 0s - loss: 0.5534 - accuracy: 0.7630\n",
            "Epoch 27: val_accuracy improved from 0.77933 to 0.78733, saving model to /content/checkpoint\n",
            "115/115 [==============================] - 5s 45ms/step - loss: 0.5534 - accuracy: 0.7630 - val_loss: 0.5248 - val_accuracy: 0.7873 - lr: 4.2183e-05\n",
            "Epoch 28/100\n",
            "115/115 [==============================] - ETA: 0s - loss: 0.5414 - accuracy: 0.7736\n",
            "Epoch 28: val_accuracy did not improve from 0.78733\n",
            "115/115 [==============================] - 5s 44ms/step - loss: 0.5414 - accuracy: 0.7736 - val_loss: 0.5241 - val_accuracy: 0.7867 - lr: 4.1764e-05\n",
            "Epoch 29/100\n",
            "114/115 [============================>.] - ETA: 0s - loss: 0.5267 - accuracy: 0.7782\n",
            "Epoch 29: val_accuracy did not improve from 0.78733\n",
            "115/115 [==============================] - 5s 45ms/step - loss: 0.5267 - accuracy: 0.7781 - val_loss: 0.5503 - val_accuracy: 0.7633 - lr: 4.1348e-05\n",
            "Epoch 30/100\n",
            "115/115 [==============================] - ETA: 0s - loss: 0.5266 - accuracy: 0.7796\n",
            "Epoch 30: val_accuracy improved from 0.78733 to 0.78933, saving model to /content/checkpoint\n",
            "115/115 [==============================] - 5s 45ms/step - loss: 0.5266 - accuracy: 0.7796 - val_loss: 0.5205 - val_accuracy: 0.7893 - lr: 4.0937e-05\n",
            "Epoch 31/100\n",
            "114/115 [============================>.] - ETA: 0s - loss: 0.5233 - accuracy: 0.7797\n",
            "Epoch 31: val_accuracy improved from 0.78933 to 0.79200, saving model to /content/checkpoint\n",
            "115/115 [==============================] - 5s 46ms/step - loss: 0.5241 - accuracy: 0.7792 - val_loss: 0.5149 - val_accuracy: 0.7920 - lr: 4.0529e-05\n",
            "Epoch 32/100\n",
            "115/115 [==============================] - ETA: 0s - loss: 0.5133 - accuracy: 0.7878\n",
            "Epoch 32: val_accuracy did not improve from 0.79200\n",
            "115/115 [==============================] - 5s 44ms/step - loss: 0.5133 - accuracy: 0.7878 - val_loss: 0.5255 - val_accuracy: 0.7733 - lr: 4.0126e-05\n",
            "Epoch 33/100\n",
            "115/115 [==============================] - ETA: 0s - loss: 0.5171 - accuracy: 0.7851\n",
            "Epoch 33: val_accuracy did not improve from 0.79200\n",
            "115/115 [==============================] - 5s 44ms/step - loss: 0.5171 - accuracy: 0.7851 - val_loss: 0.5128 - val_accuracy: 0.7893 - lr: 3.9727e-05\n",
            "Epoch 34/100\n",
            "115/115 [==============================] - ETA: 0s - loss: 0.5028 - accuracy: 0.7880\n",
            "Epoch 34: val_accuracy did not improve from 0.79200\n",
            "115/115 [==============================] - 5s 45ms/step - loss: 0.5028 - accuracy: 0.7880 - val_loss: 0.5964 - val_accuracy: 0.7540 - lr: 3.9331e-05\n",
            "Epoch 35/100\n",
            "115/115 [==============================] - ETA: 0s - loss: 0.5081 - accuracy: 0.7885\n",
            "Epoch 35: val_accuracy improved from 0.79200 to 0.81200, saving model to /content/checkpoint\n",
            "115/115 [==============================] - 5s 45ms/step - loss: 0.5081 - accuracy: 0.7885 - val_loss: 0.4796 - val_accuracy: 0.8120 - lr: 3.8940e-05\n",
            "Epoch 36/100\n",
            "115/115 [==============================] - ETA: 0s - loss: 0.4957 - accuracy: 0.7943\n",
            "Epoch 36: val_accuracy did not improve from 0.81200\n",
            "115/115 [==============================] - 5s 45ms/step - loss: 0.4957 - accuracy: 0.7943 - val_loss: 0.4986 - val_accuracy: 0.8013 - lr: 3.8553e-05\n",
            "Epoch 37/100\n",
            "114/115 [============================>.] - ETA: 0s - loss: 0.4887 - accuracy: 0.7998\n",
            "Epoch 37: val_accuracy did not improve from 0.81200\n",
            "115/115 [==============================] - 5s 45ms/step - loss: 0.4891 - accuracy: 0.7995 - val_loss: 0.4805 - val_accuracy: 0.8047 - lr: 3.8169e-05\n",
            "Epoch 38/100\n",
            "115/115 [==============================] - ETA: 0s - loss: 0.4891 - accuracy: 0.8002\n",
            "Epoch 38: val_accuracy improved from 0.81200 to 0.81733, saving model to /content/checkpoint\n",
            "115/115 [==============================] - 5s 45ms/step - loss: 0.4891 - accuracy: 0.8002 - val_loss: 0.4675 - val_accuracy: 0.8173 - lr: 3.7789e-05\n",
            "Epoch 39/100\n",
            "114/115 [============================>.] - ETA: 0s - loss: 0.4772 - accuracy: 0.8025\n",
            "Epoch 39: val_accuracy did not improve from 0.81733\n",
            "115/115 [==============================] - 5s 45ms/step - loss: 0.4770 - accuracy: 0.8028 - val_loss: 0.4815 - val_accuracy: 0.7993 - lr: 3.7413e-05\n",
            "Epoch 40/100\n",
            "114/115 [============================>.] - ETA: 0s - loss: 0.4779 - accuracy: 0.8062\n",
            "Epoch 40: val_accuracy did not improve from 0.81733\n",
            "115/115 [==============================] - 5s 45ms/step - loss: 0.4780 - accuracy: 0.8063 - val_loss: 0.4755 - val_accuracy: 0.8100 - lr: 3.7041e-05\n",
            "Epoch 41/100\n",
            "115/115 [==============================] - ETA: 0s - loss: 0.4705 - accuracy: 0.8071\n",
            "Epoch 41: val_accuracy did not improve from 0.81733\n",
            "115/115 [==============================] - 5s 45ms/step - loss: 0.4705 - accuracy: 0.8071 - val_loss: 0.4642 - val_accuracy: 0.8147 - lr: 3.6672e-05\n",
            "Epoch 42/100\n",
            "115/115 [==============================] - ETA: 0s - loss: 0.4632 - accuracy: 0.8120\n",
            "Epoch 42: val_accuracy improved from 0.81733 to 0.81867, saving model to /content/checkpoint\n",
            "115/115 [==============================] - 5s 45ms/step - loss: 0.4632 - accuracy: 0.8120 - val_loss: 0.4624 - val_accuracy: 0.8187 - lr: 3.6307e-05\n",
            "Epoch 43/100\n",
            "115/115 [==============================] - ETA: 0s - loss: 0.4594 - accuracy: 0.8138\n",
            "Epoch 43: val_accuracy improved from 0.81867 to 0.82067, saving model to /content/checkpoint\n",
            "115/115 [==============================] - 5s 45ms/step - loss: 0.4594 - accuracy: 0.8138 - val_loss: 0.4507 - val_accuracy: 0.8207 - lr: 3.5946e-05\n",
            "Epoch 44/100\n",
            "115/115 [==============================] - ETA: 0s - loss: 0.4617 - accuracy: 0.8114\n",
            "Epoch 44: val_accuracy improved from 0.82067 to 0.82667, saving model to /content/checkpoint\n",
            "115/115 [==============================] - 5s 46ms/step - loss: 0.4617 - accuracy: 0.8114 - val_loss: 0.4424 - val_accuracy: 0.8267 - lr: 3.5589e-05\n",
            "Epoch 45/100\n",
            "115/115 [==============================] - ETA: 0s - loss: 0.4546 - accuracy: 0.8161\n",
            "Epoch 45: val_accuracy did not improve from 0.82667\n",
            "115/115 [==============================] - 5s 45ms/step - loss: 0.4546 - accuracy: 0.8161 - val_loss: 0.4489 - val_accuracy: 0.8160 - lr: 3.5234e-05\n",
            "Epoch 46/100\n",
            "115/115 [==============================] - ETA: 0s - loss: 0.4549 - accuracy: 0.8147\n",
            "Epoch 46: val_accuracy did not improve from 0.82667\n",
            "115/115 [==============================] - 5s 46ms/step - loss: 0.4549 - accuracy: 0.8147 - val_loss: 0.4781 - val_accuracy: 0.8127 - lr: 3.4884e-05\n",
            "Epoch 47/100\n",
            "115/115 [==============================] - ETA: 0s - loss: 0.4517 - accuracy: 0.8145\n",
            "Epoch 47: val_accuracy did not improve from 0.82667\n",
            "115/115 [==============================] - 5s 44ms/step - loss: 0.4517 - accuracy: 0.8145 - val_loss: 0.4436 - val_accuracy: 0.8213 - lr: 3.4537e-05\n",
            "Epoch 48/100\n",
            "115/115 [==============================] - ETA: 0s - loss: 0.4412 - accuracy: 0.8215\n",
            "Epoch 48: val_accuracy did not improve from 0.82667\n",
            "115/115 [==============================] - 5s 46ms/step - loss: 0.4412 - accuracy: 0.8215 - val_loss: 0.4382 - val_accuracy: 0.8260 - lr: 3.4193e-05\n",
            "Epoch 49/100\n",
            "115/115 [==============================] - ETA: 0s - loss: 0.4331 - accuracy: 0.8276\n",
            "Epoch 49: val_accuracy improved from 0.82667 to 0.83800, saving model to /content/checkpoint\n",
            "115/115 [==============================] - 5s 45ms/step - loss: 0.4331 - accuracy: 0.8276 - val_loss: 0.4191 - val_accuracy: 0.8380 - lr: 3.3853e-05\n",
            "Epoch 50/100\n",
            "114/115 [============================>.] - ETA: 0s - loss: 0.4332 - accuracy: 0.8276\n",
            "Epoch 50: val_accuracy improved from 0.83800 to 0.83933, saving model to /content/checkpoint\n",
            "115/115 [==============================] - 5s 47ms/step - loss: 0.4328 - accuracy: 0.8280 - val_loss: 0.4197 - val_accuracy: 0.8393 - lr: 3.3516e-05\n",
            "Epoch 51/100\n",
            "115/115 [==============================] - ETA: 0s - loss: 0.4260 - accuracy: 0.8270\n",
            "Epoch 51: val_accuracy did not improve from 0.83933\n",
            "115/115 [==============================] - 5s 44ms/step - loss: 0.4260 - accuracy: 0.8270 - val_loss: 0.4254 - val_accuracy: 0.8353 - lr: 3.3183e-05\n",
            "Epoch 52/100\n",
            "114/115 [============================>.] - ETA: 0s - loss: 0.4210 - accuracy: 0.8326\n",
            "Epoch 52: val_accuracy improved from 0.83933 to 0.84200, saving model to /content/checkpoint\n",
            "115/115 [==============================] - 5s 46ms/step - loss: 0.4209 - accuracy: 0.8328 - val_loss: 0.4065 - val_accuracy: 0.8420 - lr: 3.2852e-05\n",
            "Epoch 53/100\n",
            "115/115 [==============================] - ETA: 0s - loss: 0.4183 - accuracy: 0.8354\n",
            "Epoch 53: val_accuracy improved from 0.84200 to 0.84400, saving model to /content/checkpoint\n",
            "115/115 [==============================] - 5s 45ms/step - loss: 0.4183 - accuracy: 0.8354 - val_loss: 0.4092 - val_accuracy: 0.8440 - lr: 3.2525e-05\n",
            "Epoch 54/100\n",
            "114/115 [============================>.] - ETA: 0s - loss: 0.4146 - accuracy: 0.8338\n",
            "Epoch 54: val_accuracy improved from 0.84400 to 0.84733, saving model to /content/checkpoint\n",
            "115/115 [==============================] - 5s 46ms/step - loss: 0.4142 - accuracy: 0.8342 - val_loss: 0.4057 - val_accuracy: 0.8473 - lr: 3.2202e-05\n",
            "Epoch 55/100\n",
            "114/115 [============================>.] - ETA: 0s - loss: 0.4167 - accuracy: 0.8340\n",
            "Epoch 55: val_accuracy did not improve from 0.84733\n",
            "115/115 [==============================] - 5s 45ms/step - loss: 0.4168 - accuracy: 0.8340 - val_loss: 0.3971 - val_accuracy: 0.8420 - lr: 3.1881e-05\n",
            "Epoch 56/100\n",
            "115/115 [==============================] - ETA: 0s - loss: 0.4082 - accuracy: 0.8392\n",
            "Epoch 56: val_accuracy improved from 0.84733 to 0.85067, saving model to /content/checkpoint\n",
            "115/115 [==============================] - 5s 45ms/step - loss: 0.4082 - accuracy: 0.8392 - val_loss: 0.4035 - val_accuracy: 0.8507 - lr: 3.1564e-05\n",
            "Epoch 57/100\n",
            "114/115 [============================>.] - ETA: 0s - loss: 0.4078 - accuracy: 0.8383\n",
            "Epoch 57: val_accuracy did not improve from 0.85067\n",
            "115/115 [==============================] - 5s 46ms/step - loss: 0.4074 - accuracy: 0.8384 - val_loss: 0.4401 - val_accuracy: 0.8213 - lr: 3.1250e-05\n",
            "Epoch 58/100\n",
            "114/115 [============================>.] - ETA: 0s - loss: 0.4077 - accuracy: 0.8376\n",
            "Epoch 58: val_accuracy did not improve from 0.85067\n",
            "115/115 [==============================] - 5s 45ms/step - loss: 0.4074 - accuracy: 0.8377 - val_loss: 0.4164 - val_accuracy: 0.8333 - lr: 3.0939e-05\n",
            "Epoch 59/100\n",
            "115/115 [==============================] - ETA: 0s - loss: 0.4047 - accuracy: 0.8393\n",
            "Epoch 59: val_accuracy did not improve from 0.85067\n",
            "115/115 [==============================] - 5s 45ms/step - loss: 0.4047 - accuracy: 0.8393 - val_loss: 0.3871 - val_accuracy: 0.8493 - lr: 3.0631e-05\n",
            "Epoch 60/100\n",
            "114/115 [============================>.] - ETA: 0s - loss: 0.4020 - accuracy: 0.8382\n",
            "Epoch 60: val_accuracy did not improve from 0.85067\n",
            "115/115 [==============================] - 5s 45ms/step - loss: 0.4017 - accuracy: 0.8383 - val_loss: 0.3903 - val_accuracy: 0.8453 - lr: 3.0327e-05\n",
            "Epoch 61/100\n",
            "115/115 [==============================] - ETA: 0s - loss: 0.3928 - accuracy: 0.8461\n",
            "Epoch 61: val_accuracy did not improve from 0.85067\n",
            "115/115 [==============================] - 5s 46ms/step - loss: 0.3928 - accuracy: 0.8461 - val_loss: 0.3857 - val_accuracy: 0.8460 - lr: 3.0025e-05\n",
            "Epoch 62/100\n",
            "115/115 [==============================] - ETA: 0s - loss: 0.3961 - accuracy: 0.8421\n",
            "Epoch 62: val_accuracy did not improve from 0.85067\n",
            "115/115 [==============================] - 5s 44ms/step - loss: 0.3961 - accuracy: 0.8421 - val_loss: 0.4415 - val_accuracy: 0.8113 - lr: 2.9726e-05\n",
            "Epoch 63/100\n",
            "115/115 [==============================] - ETA: 0s - loss: 0.3856 - accuracy: 0.8492\n",
            "Epoch 63: val_accuracy did not improve from 0.85067\n",
            "115/115 [==============================] - 5s 44ms/step - loss: 0.3856 - accuracy: 0.8492 - val_loss: 0.3933 - val_accuracy: 0.8393 - lr: 2.9430e-05\n",
            "Epoch 64/100\n",
            "115/115 [==============================] - ETA: 0s - loss: 0.3871 - accuracy: 0.8498\n",
            "Epoch 64: val_accuracy improved from 0.85067 to 0.85467, saving model to /content/checkpoint\n",
            "115/115 [==============================] - 5s 47ms/step - loss: 0.3871 - accuracy: 0.8498 - val_loss: 0.3757 - val_accuracy: 0.8547 - lr: 2.9137e-05\n",
            "Epoch 65/100\n",
            "115/115 [==============================] - ETA: 0s - loss: 0.3797 - accuracy: 0.8525\n",
            "Epoch 65: val_accuracy did not improve from 0.85467\n",
            "115/115 [==============================] - 5s 44ms/step - loss: 0.3797 - accuracy: 0.8525 - val_loss: 0.4089 - val_accuracy: 0.8333 - lr: 2.8847e-05\n",
            "Epoch 66/100\n",
            "115/115 [==============================] - ETA: 0s - loss: 0.3889 - accuracy: 0.8453\n",
            "Epoch 66: val_accuracy did not improve from 0.85467\n",
            "115/115 [==============================] - 5s 45ms/step - loss: 0.3889 - accuracy: 0.8453 - val_loss: 0.3824 - val_accuracy: 0.8533 - lr: 2.8560e-05\n",
            "Epoch 67/100\n",
            "114/115 [============================>.] - ETA: 0s - loss: 0.3822 - accuracy: 0.8490\n",
            "Epoch 67: val_accuracy did not improve from 0.85467\n",
            "115/115 [==============================] - 5s 45ms/step - loss: 0.3828 - accuracy: 0.8490 - val_loss: 0.3743 - val_accuracy: 0.8467 - lr: 2.8276e-05\n",
            "Epoch 68/100\n",
            "115/115 [==============================] - ETA: 0s - loss: 0.3721 - accuracy: 0.8559\n",
            "Epoch 68: val_accuracy did not improve from 0.85467\n",
            "115/115 [==============================] - 5s 45ms/step - loss: 0.3721 - accuracy: 0.8559 - val_loss: 0.4065 - val_accuracy: 0.8247 - lr: 2.7995e-05\n",
            "Epoch 69/100\n",
            "114/115 [============================>.] - ETA: 0s - loss: 0.3745 - accuracy: 0.8517\n",
            "Epoch 69: val_accuracy did not improve from 0.85467\n",
            "115/115 [==============================] - 5s 46ms/step - loss: 0.3741 - accuracy: 0.8521 - val_loss: 0.3703 - val_accuracy: 0.8520 - lr: 2.7716e-05\n",
            "Epoch 70/100\n",
            "115/115 [==============================] - ETA: 0s - loss: 0.3715 - accuracy: 0.8567\n",
            "Epoch 70: val_accuracy improved from 0.85467 to 0.86133, saving model to /content/checkpoint\n",
            "115/115 [==============================] - 5s 45ms/step - loss: 0.3715 - accuracy: 0.8567 - val_loss: 0.3631 - val_accuracy: 0.8613 - lr: 2.7441e-05\n",
            "Epoch 71/100\n",
            "115/115 [==============================] - ETA: 0s - loss: 0.3706 - accuracy: 0.8582\n",
            "Epoch 71: val_accuracy did not improve from 0.86133\n",
            "115/115 [==============================] - 5s 45ms/step - loss: 0.3706 - accuracy: 0.8582 - val_loss: 0.3620 - val_accuracy: 0.8540 - lr: 2.7168e-05\n",
            "Epoch 72/100\n",
            "114/115 [============================>.] - ETA: 0s - loss: 0.3647 - accuracy: 0.8589\n",
            "Epoch 72: val_accuracy improved from 0.86133 to 0.86533, saving model to /content/checkpoint\n",
            "115/115 [==============================] - 5s 45ms/step - loss: 0.3658 - accuracy: 0.8582 - val_loss: 0.3555 - val_accuracy: 0.8653 - lr: 2.6897e-05\n",
            "Epoch 73/100\n",
            "115/115 [==============================] - ETA: 0s - loss: 0.3677 - accuracy: 0.8558\n",
            "Epoch 73: val_accuracy did not improve from 0.86533\n",
            "115/115 [==============================] - 5s 45ms/step - loss: 0.3677 - accuracy: 0.8558 - val_loss: 0.3651 - val_accuracy: 0.8607 - lr: 2.6630e-05\n",
            "Epoch 74/100\n",
            "114/115 [============================>.] - ETA: 0s - loss: 0.3765 - accuracy: 0.8533\n",
            "Epoch 74: val_accuracy did not improve from 0.86533\n",
            "115/115 [==============================] - 5s 45ms/step - loss: 0.3763 - accuracy: 0.8535 - val_loss: 0.3774 - val_accuracy: 0.8553 - lr: 2.6365e-05\n",
            "Epoch 75/100\n",
            "115/115 [==============================] - ETA: 0s - loss: 0.3669 - accuracy: 0.8564\n",
            "Epoch 75: val_accuracy did not improve from 0.86533\n",
            "115/115 [==============================] - 5s 45ms/step - loss: 0.3669 - accuracy: 0.8564 - val_loss: 0.3651 - val_accuracy: 0.8593 - lr: 2.6102e-05\n",
            "Epoch 76/100\n",
            "114/115 [============================>.] - ETA: 0s - loss: 0.3574 - accuracy: 0.8613\n",
            "Epoch 76: val_accuracy did not improve from 0.86533\n",
            "115/115 [==============================] - 5s 45ms/step - loss: 0.3579 - accuracy: 0.8610 - val_loss: 0.4048 - val_accuracy: 0.8400 - lr: 2.5843e-05\n",
            "Epoch 77/100\n",
            "114/115 [============================>.] - ETA: 0s - loss: 0.3578 - accuracy: 0.8602\n",
            "Epoch 77: val_accuracy improved from 0.86533 to 0.86733, saving model to /content/checkpoint\n",
            "115/115 [==============================] - 5s 46ms/step - loss: 0.3577 - accuracy: 0.8603 - val_loss: 0.3479 - val_accuracy: 0.8673 - lr: 2.5585e-05\n",
            "Epoch 78/100\n",
            "115/115 [==============================] - ETA: 0s - loss: 0.3584 - accuracy: 0.8619\n",
            "Epoch 78: val_accuracy improved from 0.86733 to 0.86800, saving model to /content/checkpoint\n",
            "115/115 [==============================] - 5s 45ms/step - loss: 0.3584 - accuracy: 0.8619 - val_loss: 0.3421 - val_accuracy: 0.8680 - lr: 2.5331e-05\n",
            "Epoch 79/100\n",
            "115/115 [==============================] - ETA: 0s - loss: 0.3516 - accuracy: 0.8654\n",
            "Epoch 79: val_accuracy improved from 0.86800 to 0.87133, saving model to /content/checkpoint\n",
            "115/115 [==============================] - 5s 46ms/step - loss: 0.3516 - accuracy: 0.8654 - val_loss: 0.3368 - val_accuracy: 0.8713 - lr: 2.5079e-05\n",
            "Epoch 80/100\n",
            "115/115 [==============================] - ETA: 0s - loss: 0.3495 - accuracy: 0.8634\n",
            "Epoch 80: val_accuracy did not improve from 0.87133\n",
            "115/115 [==============================] - 5s 46ms/step - loss: 0.3495 - accuracy: 0.8634 - val_loss: 0.3479 - val_accuracy: 0.8633 - lr: 2.4829e-05\n",
            "Epoch 81/100\n",
            "115/115 [==============================] - ETA: 0s - loss: 0.3512 - accuracy: 0.8648\n",
            "Epoch 81: val_accuracy did not improve from 0.87133\n",
            "115/115 [==============================] - 5s 45ms/step - loss: 0.3512 - accuracy: 0.8648 - val_loss: 0.3517 - val_accuracy: 0.8700 - lr: 2.4582e-05\n",
            "Epoch 82/100\n",
            "114/115 [============================>.] - ETA: 0s - loss: 0.3465 - accuracy: 0.8647\n",
            "Epoch 82: val_accuracy improved from 0.87133 to 0.87467, saving model to /content/checkpoint\n",
            "115/115 [==============================] - 5s 46ms/step - loss: 0.3459 - accuracy: 0.8651 - val_loss: 0.3357 - val_accuracy: 0.8747 - lr: 2.4338e-05\n",
            "Epoch 83/100\n",
            "114/115 [============================>.] - ETA: 0s - loss: 0.3432 - accuracy: 0.8691\n",
            "Epoch 83: val_accuracy did not improve from 0.87467\n",
            "115/115 [==============================] - 5s 44ms/step - loss: 0.3427 - accuracy: 0.8688 - val_loss: 0.3554 - val_accuracy: 0.8580 - lr: 2.4095e-05\n",
            "Epoch 84/100\n",
            "115/115 [==============================] - ETA: 0s - loss: 0.3477 - accuracy: 0.8673\n",
            "Epoch 84: val_accuracy did not improve from 0.87467\n",
            "115/115 [==============================] - 5s 47ms/step - loss: 0.3477 - accuracy: 0.8673 - val_loss: 0.3302 - val_accuracy: 0.8740 - lr: 2.3856e-05\n",
            "Epoch 85/100\n",
            "115/115 [==============================] - ETA: 0s - loss: 0.3507 - accuracy: 0.8653\n",
            "Epoch 85: val_accuracy did not improve from 0.87467\n",
            "115/115 [==============================] - 5s 45ms/step - loss: 0.3507 - accuracy: 0.8653 - val_loss: 0.3324 - val_accuracy: 0.8720 - lr: 2.3618e-05\n",
            "Epoch 86/100\n",
            "115/115 [==============================] - ETA: 0s - loss: 0.3376 - accuracy: 0.8723\n",
            "Epoch 86: val_accuracy improved from 0.87467 to 0.87733, saving model to /content/checkpoint\n",
            "115/115 [==============================] - 5s 46ms/step - loss: 0.3376 - accuracy: 0.8723 - val_loss: 0.3293 - val_accuracy: 0.8773 - lr: 2.3383e-05\n",
            "Epoch 87/100\n",
            "114/115 [============================>.] - ETA: 0s - loss: 0.3328 - accuracy: 0.8723\n",
            "Epoch 87: val_accuracy did not improve from 0.87733\n",
            "115/115 [==============================] - 5s 45ms/step - loss: 0.3333 - accuracy: 0.8720 - val_loss: 0.3324 - val_accuracy: 0.8733 - lr: 2.3151e-05\n",
            "Epoch 88/100\n",
            "114/115 [============================>.] - ETA: 0s - loss: 0.3334 - accuracy: 0.8739\n",
            "Epoch 88: val_accuracy did not improve from 0.87733\n",
            "115/115 [==============================] - 5s 45ms/step - loss: 0.3341 - accuracy: 0.8735 - val_loss: 0.3576 - val_accuracy: 0.8553 - lr: 2.2920e-05\n",
            "Epoch 89/100\n",
            "115/115 [==============================] - ETA: 0s - loss: 0.3367 - accuracy: 0.8695\n",
            "Epoch 89: val_accuracy did not improve from 0.87733\n",
            "115/115 [==============================] - 5s 44ms/step - loss: 0.3367 - accuracy: 0.8695 - val_loss: 0.3495 - val_accuracy: 0.8687 - lr: 2.2692e-05\n",
            "Epoch 90/100\n",
            "114/115 [============================>.] - ETA: 0s - loss: 0.3310 - accuracy: 0.8735\n",
            "Epoch 90: val_accuracy did not improve from 0.87733\n",
            "115/115 [==============================] - 5s 46ms/step - loss: 0.3305 - accuracy: 0.8739 - val_loss: 0.3674 - val_accuracy: 0.8460 - lr: 2.2466e-05\n",
            "Epoch 91/100\n",
            "115/115 [==============================] - ETA: 0s - loss: 0.3310 - accuracy: 0.8708\n",
            "Epoch 91: val_accuracy did not improve from 0.87733\n",
            "115/115 [==============================] - 5s 45ms/step - loss: 0.3310 - accuracy: 0.8708 - val_loss: 0.3310 - val_accuracy: 0.8713 - lr: 2.2243e-05\n",
            "Epoch 92/100\n",
            "115/115 [==============================] - ETA: 0s - loss: 0.3293 - accuracy: 0.8726\n",
            "Epoch 92: val_accuracy did not improve from 0.87733\n",
            "115/115 [==============================] - 5s 46ms/step - loss: 0.3293 - accuracy: 0.8726 - val_loss: 0.3379 - val_accuracy: 0.8673 - lr: 2.2022e-05\n",
            "Epoch 93/100\n",
            "115/115 [==============================] - ETA: 0s - loss: 0.3369 - accuracy: 0.8712\n",
            "Epoch 93: val_accuracy did not improve from 0.87733\n",
            "115/115 [==============================] - 5s 44ms/step - loss: 0.3369 - accuracy: 0.8712 - val_loss: 0.3571 - val_accuracy: 0.8547 - lr: 2.1802e-05\n",
            "Epoch 94/100\n",
            "115/115 [==============================] - ETA: 0s - loss: 0.3260 - accuracy: 0.8740\n",
            "Epoch 94: val_accuracy did not improve from 0.87733\n",
            "115/115 [==============================] - 5s 45ms/step - loss: 0.3260 - accuracy: 0.8740 - val_loss: 0.3219 - val_accuracy: 0.8740 - lr: 2.1586e-05\n",
            "Epoch 95/100\n",
            "114/115 [============================>.] - ETA: 0s - loss: 0.3209 - accuracy: 0.8766\n",
            "Epoch 95: val_accuracy did not improve from 0.87733\n",
            "115/115 [==============================] - 5s 46ms/step - loss: 0.3216 - accuracy: 0.8762 - val_loss: 0.3290 - val_accuracy: 0.8720 - lr: 2.1371e-05\n",
            "Epoch 96/100\n",
            "115/115 [==============================] - ETA: 0s - loss: 0.3262 - accuracy: 0.8742\n",
            "Epoch 96: val_accuracy did not improve from 0.87733\n",
            "115/115 [==============================] - 5s 45ms/step - loss: 0.3262 - accuracy: 0.8742 - val_loss: 0.3186 - val_accuracy: 0.8767 - lr: 2.1158e-05\n",
            "Epoch 97/100\n",
            "114/115 [============================>.] - ETA: 0s - loss: 0.3219 - accuracy: 0.8782\n",
            "Epoch 97: val_accuracy improved from 0.87733 to 0.88400, saving model to /content/checkpoint\n",
            "115/115 [==============================] - 5s 45ms/step - loss: 0.3214 - accuracy: 0.8780 - val_loss: 0.3128 - val_accuracy: 0.8840 - lr: 2.0948e-05\n",
            "Epoch 98/100\n",
            "115/115 [==============================] - ETA: 0s - loss: 0.3194 - accuracy: 0.8783\n",
            "Epoch 98: val_accuracy did not improve from 0.88400\n",
            "115/115 [==============================] - 5s 45ms/step - loss: 0.3194 - accuracy: 0.8783 - val_loss: 0.3340 - val_accuracy: 0.8633 - lr: 2.0739e-05\n",
            "Epoch 99/100\n",
            "115/115 [==============================] - ETA: 0s - loss: 0.3178 - accuracy: 0.8785\n",
            "Epoch 99: val_accuracy did not improve from 0.88400\n",
            "115/115 [==============================] - 5s 44ms/step - loss: 0.3178 - accuracy: 0.8785 - val_loss: 0.3135 - val_accuracy: 0.8807 - lr: 2.0533e-05\n",
            "Epoch 100/100\n",
            "114/115 [============================>.] - ETA: 0s - loss: 0.3209 - accuracy: 0.8769\n",
            "Epoch 100: val_accuracy did not improve from 0.88400\n",
            "115/115 [==============================] - 5s 46ms/step - loss: 0.3209 - accuracy: 0.8769 - val_loss: 0.3109 - val_accuracy: 0.8820 - lr: 2.0328e-05\n"
          ]
        }
      ]
    },
    {
      "cell_type": "markdown",
      "source": [
        "# Model Evaluation\n",
        "\n",
        "**Create plots using the losses and metrics. In your report, discuss these results and critically evaluate the models performance.**"
      ],
      "metadata": {
        "id": "hkaP8sRwKLYn"
      }
    },
    {
      "cell_type": "code",
      "source": [
        "# CodeGrade Tag Ex4a\n",
        "\n",
        "# Plot training and validation loss\n",
        "plt.figure(figsize=(12, 4))\n",
        "plt.subplot(1, 2, 1)\n",
        "plt.plot(history.history['loss'], label='Training Loss',color='red')\n",
        "plt.plot(history.history['val_loss'], label='Validation Loss',color='black')\n",
        "plt.title('Training & Validation - Loss')\n",
        "plt.xlabel('Epoch')\n",
        "plt.ylabel('Loss')\n",
        "plt.legend()\n",
        "\n",
        "# Plot training and validation accuracy\n",
        "plt.subplot(1, 2, 2)\n",
        "plt.plot(history.history['accuracy'], label='Training Accuracy',color='red')\n",
        "plt.plot(history.history['val_accuracy'], label='Validation Accuracy',color='black')\n",
        "plt.title('Training & Validation - Accuracy')\n",
        "plt.xlabel('Epoch')\n",
        "plt.ylabel('Accuracy')\n",
        "plt.legend()\n",
        "\n",
        "plt.show()"
      ],
      "metadata": {
        "id": "V-zTj4ZZKQ2p",
        "colab": {
          "base_uri": "https://localhost:8080/",
          "height": 410
        },
        "outputId": "d4ac7e7d-807b-4dc9-c9b9-26ccef524d32"
      },
      "execution_count": 16,
      "outputs": [
        {
          "output_type": "display_data",
          "data": {
            "text/plain": [
              "<Figure size 1200x400 with 2 Axes>"
            ],
            "image/png": "[encoded data removed]"
          },
          "metadata": {}
        }
      ]
    },
    {
      "cell_type": "markdown",
      "source": [
        "**Load the best weights from your model checkpoint, and create plots demonstrating the classification perfomnce for all three classes. Include these plots in your report, and critically evaluate on the performance of the model across the classes.**"
      ],
      "metadata": {
        "id": "be9li89iSP6E"
      }
    },
    {
      "cell_type": "code",
      "source": [
        "# CodeGrade Tag Ex4b\n",
        "\n",
        "# Load the best weights from the model checkpoint\n",
        "model.load_weights(checkpoint_filepath)\n",
        "\n",
        "# Evaluate the model on the validation set\n",
        "validation_results = model.evaluate(valid_ds)\n",
        "\n",
        "# Display the evaluation results\n",
        "print(\"Validation Loss:\", validation_results[0])\n",
        "print(\"Validation Accuracy:\", validation_results[1])\n",
        "\n",
        "# Predict probabilities for the validation set\n",
        "predictions = model.predict(valid_ds)\n",
        "\n",
        "# Get the true labels\n",
        "true_labels = np.concatenate([y for x, y in valid_ds], axis=0)\n",
        "\n",
        "# Plot the classification performance for each class\n",
        "class_names = list(label_dict.keys())\n",
        "\n",
        "plt.figure(figsize=(12, 8))\n",
        "for i in range(len(class_names)):\n",
        "    plt.subplot(2, 2, i + 1)\n",
        "    plt.hist(predictions[true_labels == i][:, i], bins=30, color='red', alpha=0.5, label='Class ' + str(i))\n",
        "    plt.title('Class ' + str(i) + ' - Probability Distribution')\n",
        "    plt.xlabel('Probability')\n",
        "    plt.ylabel('Frequency')\n",
        "    plt.legend()\n",
        "\n",
        "plt.tight_layout()\n",
        "plt.show()\n",
        "\n"
      ],
      "metadata": {
        "id": "x7BtdNrsSlai",
        "colab": {
          "base_uri": "https://localhost:8080/",
          "height": 876
        },
        "outputId": "e15b155d-3b4a-49cf-af02-cb1be54bb9cb"
      },
      "execution_count": 17,
      "outputs": [
        {
          "output_type": "stream",
          "name": "stdout",
          "text": [
            "12/12 [==============================] - 0s 18ms/step - loss: 0.3128 - accuracy: 0.8840\n",
            "Validation Loss: 0.3127807676792145\n",
            "Validation Accuracy: 0.8840000033378601\n",
            "12/12 [==============================] - 0s 14ms/step\n"
          ]
        },
        {
          "output_type": "display_data",
          "data": {
            "text/plain": [
              "<Figure size 1200x800 with 3 Axes>"
            ],
            "image/png": "[encoded data removed]"
          },
          "metadata": {}
        }
      ]
    }
  ]
}